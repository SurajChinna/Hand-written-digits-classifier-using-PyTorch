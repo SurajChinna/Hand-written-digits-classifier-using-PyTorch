{
 "cells": [
  {
   "cell_type": "code",
   "execution_count": 1,
   "metadata": {},
   "outputs": [],
   "source": [
    "# Importing the required modules\n",
    "import torch\n",
    "from torch import nn\n",
    "from torch import optim\n",
    "import torch.nn.functional as F \n",
    "from torchvision import datasets, transforms\n",
    "from torch.utils.data.sampler import SubsetRandomSampler\n",
    "\n",
    "from matplotlib import pyplot as plt\n",
    "\n",
    "from collections import OrderedDict\n",
    "import numpy as np"
   ]
  },
  {
   "cell_type": "code",
   "execution_count": 2,
   "metadata": {},
   "outputs": [],
   "source": [
    "# Applying transformations on images\n",
    "transform = transforms.Compose([transforms.ToTensor(),\n",
    "                               transforms.Normalize((0.5,0.5,0.5),(0.5,0.5,0.5))])\n",
    "\n",
    "#Loading training and testing set\n",
    "trainset = datasets.MNIST('MNIST_data/', train=True, download=True, transform=transform)\n",
    "testset = datasets.MNIST('MNIST_data/', train=False, download=True, transform=transform)\n",
    "\n",
    "#size of validation dataset\n",
    "valid_size = 0.2\n",
    "# obtain training indices that will be used for validation\n",
    "num_train = len(trainset)\n",
    "indices = list(range(num_train))\n",
    "np.random.shuffle(indices)\n",
    "split = int(np.floor(valid_size * num_train))\n",
    "train_idx, valid_idx = indices[split:], indices[:split]\n",
    "\n",
    "\n",
    "# define samplers for obtaining training and validation batches\n",
    "train_sampler = SubsetRandomSampler(train_idx)\n",
    "valid_sampler = SubsetRandomSampler(valid_idx)\n",
    "\n",
    "trainloader = torch.utils.data.DataLoader(trainset, batch_size=64, sampler=train_sampler)\n",
    "validloader = torch.utils.data.DataLoader(trainset, batch_size=64, sampler=valid_sampler)\n",
    "testloader = torch.utils.data.DataLoader(testset, batch_size=64, shuffle=True)"
   ]
  },
  {
   "cell_type": "code",
   "execution_count": 9,
   "metadata": {},
   "outputs": [
    {
     "data": {
      "text/plain": [
       "Sequential(\n",
       "  (fc1): Linear(in_features=784, out_features=128, bias=True)\n",
       "  (relu1): ReLU()\n",
       "  (dropout1): Dropout(p=0.2)\n",
       "  (fc2): Linear(in_features=128, out_features=64, bias=True)\n",
       "  (relu2): ReLU()\n",
       "  (dropout2): Dropout(p=0.2)\n",
       "  (fc3): Linear(in_features=64, out_features=10, bias=True)\n",
       "  (log_soft1): LogSoftmax()\n",
       ")"
      ]
     },
     "execution_count": 9,
     "metadata": {},
     "output_type": "execute_result"
    }
   ],
   "source": [
    "# Defining model\n",
    "model = nn.Sequential(OrderedDict([\n",
    "    ('fc1', nn.Linear(784, 128)),\n",
    "    ('relu1', nn.ReLU()),\n",
    "    ('dropout1', nn.Dropout(0.2)),\n",
    "    ('fc2', nn.Linear(128, 64)),\n",
    "    ('relu2', nn.ReLU()),\n",
    "    ('dropout2', nn.Dropout(0.2)),\n",
    "    ('fc3', nn.Linear(64, 10)),\n",
    "    ('log_soft1', nn.LogSoftmax(dim=1))\n",
    "]))\n",
    "\n",
    "model"
   ]
  },
  {
   "cell_type": "code",
   "execution_count": 10,
   "metadata": {},
   "outputs": [],
   "source": [
    "# setting the criterion as Negative Log Likelihood Loss\n",
    "criterion = nn.NLLLoss()\n",
    "# setting the optimizer to Stocastic Gradient Descent\n",
    "optimizer = optim.SGD(model.parameters(), lr=0.003)"
   ]
  },
  {
   "cell_type": "code",
   "execution_count": 11,
   "metadata": {},
   "outputs": [
    {
     "name": "stdout",
     "output_type": "stream",
     "text": [
      "Epochs: 1/40 .. Training Loss: 2.074 .. Valid Loss: 1.665 .. Accuracy: 0.572\n",
      "Validation loss decreased (inf)->(1.665) .. saving model\n",
      "Epochs: 2/40 .. Training Loss: 1.358 .. Valid Loss: 0.959 .. Accuracy: 0.751\n",
      "Validation loss decreased (1.665)->(0.959) .. saving model\n",
      "Epochs: 3/40 .. Training Loss: 0.948 .. Valid Loss: 0.695 .. Accuracy: 0.814\n",
      "Validation loss decreased (0.959)->(0.695) .. saving model\n",
      "Epochs: 4/40 .. Training Loss: 0.761 .. Valid Loss: 0.569 .. Accuracy: 0.849\n",
      "Validation loss decreased (0.695)->(0.569) .. saving model\n",
      "Epochs: 5/40 .. Training Loss: 0.647 .. Valid Loss: 0.490 .. Accuracy: 0.867\n",
      "Validation loss decreased (0.569)->(0.490) .. saving model\n",
      "Epochs: 6/40 .. Training Loss: 0.580 .. Valid Loss: 0.442 .. Accuracy: 0.879\n",
      "Validation loss decreased (0.490)->(0.442) .. saving model\n",
      "Epochs: 7/40 .. Training Loss: 0.531 .. Valid Loss: 0.409 .. Accuracy: 0.889\n",
      "Validation loss decreased (0.442)->(0.409) .. saving model\n",
      "Epochs: 8/40 .. Training Loss: 0.496 .. Valid Loss: 0.381 .. Accuracy: 0.891\n",
      "Validation loss decreased (0.409)->(0.381) .. saving model\n",
      "Epochs: 9/40 .. Training Loss: 0.466 .. Valid Loss: 0.358 .. Accuracy: 0.899\n",
      "Validation loss decreased (0.381)->(0.358) .. saving model\n",
      "Epochs: 10/40 .. Training Loss: 0.442 .. Valid Loss: 0.344 .. Accuracy: 0.899\n",
      "Validation loss decreased (0.358)->(0.344) .. saving model\n",
      "Epochs: 11/40 .. Training Loss: 0.419 .. Valid Loss: 0.326 .. Accuracy: 0.905\n",
      "Validation loss decreased (0.344)->(0.326) .. saving model\n",
      "Epochs: 12/40 .. Training Loss: 0.406 .. Valid Loss: 0.315 .. Accuracy: 0.907\n",
      "Validation loss decreased (0.326)->(0.315) .. saving model\n",
      "Epochs: 13/40 .. Training Loss: 0.388 .. Valid Loss: 0.304 .. Accuracy: 0.910\n",
      "Validation loss decreased (0.315)->(0.304) .. saving model\n",
      "Epochs: 14/40 .. Training Loss: 0.376 .. Valid Loss: 0.298 .. Accuracy: 0.912\n",
      "Validation loss decreased (0.304)->(0.298) .. saving model\n",
      "Epochs: 15/40 .. Training Loss: 0.367 .. Valid Loss: 0.287 .. Accuracy: 0.915\n",
      "Validation loss decreased (0.298)->(0.287) .. saving model\n",
      "Epochs: 16/40 .. Training Loss: 0.354 .. Valid Loss: 0.278 .. Accuracy: 0.918\n",
      "Validation loss decreased (0.287)->(0.278) .. saving model\n",
      "Epochs: 17/40 .. Training Loss: 0.345 .. Valid Loss: 0.271 .. Accuracy: 0.919\n",
      "Validation loss decreased (0.278)->(0.271) .. saving model\n",
      "Epochs: 18/40 .. Training Loss: 0.333 .. Valid Loss: 0.266 .. Accuracy: 0.920\n",
      "Validation loss decreased (0.271)->(0.266) .. saving model\n",
      "Epochs: 19/40 .. Training Loss: 0.323 .. Valid Loss: 0.258 .. Accuracy: 0.922\n",
      "Validation loss decreased (0.266)->(0.258) .. saving model\n",
      "Epochs: 20/40 .. Training Loss: 0.316 .. Valid Loss: 0.253 .. Accuracy: 0.925\n",
      "Validation loss decreased (0.258)->(0.253) .. saving model\n",
      "Epochs: 21/40 .. Training Loss: 0.309 .. Valid Loss: 0.246 .. Accuracy: 0.926\n",
      "Validation loss decreased (0.253)->(0.246) .. saving model\n",
      "Epochs: 22/40 .. Training Loss: 0.300 .. Valid Loss: 0.241 .. Accuracy: 0.928\n",
      "Validation loss decreased (0.246)->(0.241) .. saving model\n",
      "Epochs: 23/40 .. Training Loss: 0.296 .. Valid Loss: 0.235 .. Accuracy: 0.930\n",
      "Validation loss decreased (0.241)->(0.235) .. saving model\n",
      "Epochs: 24/40 .. Training Loss: 0.288 .. Valid Loss: 0.229 .. Accuracy: 0.931\n",
      "Validation loss decreased (0.235)->(0.229) .. saving model\n",
      "Epochs: 25/40 .. Training Loss: 0.281 .. Valid Loss: 0.224 .. Accuracy: 0.932\n",
      "Validation loss decreased (0.229)->(0.224) .. saving model\n",
      "Epochs: 26/40 .. Training Loss: 0.274 .. Valid Loss: 0.220 .. Accuracy: 0.934\n",
      "Validation loss decreased (0.224)->(0.220) .. saving model\n",
      "Epochs: 27/40 .. Training Loss: 0.270 .. Valid Loss: 0.216 .. Accuracy: 0.934\n",
      "Validation loss decreased (0.220)->(0.216) .. saving model\n",
      "Epochs: 28/40 .. Training Loss: 0.265 .. Valid Loss: 0.212 .. Accuracy: 0.936\n",
      "Validation loss decreased (0.216)->(0.212) .. saving model\n",
      "Epochs: 29/40 .. Training Loss: 0.259 .. Valid Loss: 0.209 .. Accuracy: 0.936\n",
      "Validation loss decreased (0.212)->(0.209) .. saving model\n",
      "Epochs: 30/40 .. Training Loss: 0.256 .. Valid Loss: 0.204 .. Accuracy: 0.939\n",
      "Validation loss decreased (0.209)->(0.204) .. saving model\n",
      "Epochs: 31/40 .. Training Loss: 0.250 .. Valid Loss: 0.200 .. Accuracy: 0.940\n",
      "Validation loss decreased (0.204)->(0.200) .. saving model\n",
      "Epochs: 32/40 .. Training Loss: 0.247 .. Valid Loss: 0.197 .. Accuracy: 0.941\n",
      "Validation loss decreased (0.200)->(0.197) .. saving model\n",
      "Epochs: 33/40 .. Training Loss: 0.241 .. Valid Loss: 0.194 .. Accuracy: 0.942\n",
      "Validation loss decreased (0.197)->(0.194) .. saving model\n",
      "Epochs: 34/40 .. Training Loss: 0.237 .. Valid Loss: 0.190 .. Accuracy: 0.943\n",
      "Validation loss decreased (0.194)->(0.190) .. saving model\n",
      "Epochs: 35/40 .. Training Loss: 0.233 .. Valid Loss: 0.190 .. Accuracy: 0.943\n",
      "Validation loss decreased (0.190)->(0.190) .. saving model\n",
      "Epochs: 36/40 .. Training Loss: 0.228 .. Valid Loss: 0.184 .. Accuracy: 0.945\n",
      "Validation loss decreased (0.190)->(0.184) .. saving model\n",
      "Epochs: 37/40 .. Training Loss: 0.226 .. Valid Loss: 0.182 .. Accuracy: 0.945\n",
      "Validation loss decreased (0.184)->(0.182) .. saving model\n",
      "Epochs: 38/40 .. Training Loss: 0.222 .. Valid Loss: 0.179 .. Accuracy: 0.946\n",
      "Validation loss decreased (0.182)->(0.179) .. saving model\n",
      "Epochs: 39/40 .. Training Loss: 0.217 .. Valid Loss: 0.176 .. Accuracy: 0.947\n",
      "Validation loss decreased (0.179)->(0.176) .. saving model\n",
      "Epochs: 40/40 .. Training Loss: 0.214 .. Valid Loss: 0.172 .. Accuracy: 0.949\n",
      "Validation loss decreased (0.176)->(0.172) .. saving model\n"
     ]
    }
   ],
   "source": [
    "epochs = 40\n",
    "running_loss = 0\n",
    "min_valid_loss = np.Inf\n",
    "\n",
    "steps = 0\n",
    "print_every = 500\n",
    "\n",
    "for e in range(epochs):\n",
    "    model.train()\n",
    "    \n",
    "    for images, labels in trainloader:\n",
    "        steps += 1\n",
    "        \n",
    "        # This step will change the shape of images from (64,1,28,28) to (64, 784)\n",
    "        images = images.view(images.shape[0], -1)\n",
    "        \n",
    "        optimizer.zero_grad()\n",
    "        \n",
    "        # feed-forward\n",
    "        logits = model(images)\n",
    "        \n",
    "        #calculating the loss\n",
    "        loss = criterion(logits, labels)\n",
    "        \n",
    "        # Doing backward propagation of loss\n",
    "        loss.backward()\n",
    "        \n",
    "        # Updating the weights\n",
    "        optimizer.step()\n",
    "        \n",
    "        running_loss += loss.item()\n",
    "        \n",
    "    \n",
    "    #validation\n",
    "    model.eval()\n",
    "    valid_loss = 0\n",
    "    accuracy = 0\n",
    "    for images, labels in validloader:\n",
    "        images = images.view(images.shape[0], -1)\n",
    "\n",
    "        logps = model(images)\n",
    "        valid_loss += criterion(logps, labels).item()\n",
    "        ps = torch.exp(logps)\n",
    "\n",
    "        out_class, out_p = ps.topk(1)\n",
    "        equality = labels==out_p.view(*labels.shape)\n",
    "        accuracy += torch.mean(equality.type(torch.FloatTensor))\n",
    "        \n",
    "\n",
    "            \n",
    "    print('Epochs: {}/{} .. Training Loss: {:.3f} .. Valid Loss: {:.3f} .. Accuracy: {:.3f}'.format(e+1, \\\n",
    "                                                                                                     epochs, \\\n",
    "                                                                                                     running_loss/len(trainloader), \\\n",
    "                                                                                                     valid_loss/len(validloader), \\\n",
    "                                                                                                     accuracy/len(validloader)))\n",
    "    if valid_loss <= min_valid_loss:\n",
    "        print('Validation loss decreased ({:.3f})->({:.3f}) .. saving model'.format(min_valid_loss/len(validloader), \\\n",
    "                                                                                    valid_loss/len(validloader)))\n",
    "        torch.save(model.state_dict(), 'checkpoint.pth')\n",
    "        min_valid_loss = valid_loss\n",
    "    running_loss=0"
   ]
  },
  {
   "cell_type": "markdown",
   "metadata": {},
   "source": [
    "We can see that our validation and training loss still decreases even on the 40th epoch. We could even train the model for more number of epochs and expect good accuracy."
   ]
  },
  {
   "cell_type": "code",
   "execution_count": 13,
   "metadata": {},
   "outputs": [],
   "source": [
    "#loading the saved model\n",
    "model.load_state_dict(torch.load('checkpoint.pth'))"
   ]
  },
  {
   "cell_type": "code",
   "execution_count": 14,
   "metadata": {
    "scrolled": true
   },
   "outputs": [
    {
     "name": "stdout",
     "output_type": "stream",
     "text": [
      "Loss on testing data: 0.159\n",
      "Accuracy on testing data:0.953\n"
     ]
    }
   ],
   "source": [
    "#testing the model on test data\n",
    "\n",
    "testing_loss = 0\n",
    "accuracy = 0\n",
    "\n",
    "for images, labels in testloader:\n",
    "    images = images.view(images.shape[0], -1)\n",
    "    \n",
    "    logps = model(images)\n",
    "    loss = criterion(logps, labels)\n",
    "    ps = torch.exp(logps)\n",
    "    \n",
    "    out_class, out_p = ps.topk(1)\n",
    "    equality = labels==out_p.view(*labels.shape)\n",
    "    accuracy += torch.mean(equality.type(torch.FloatTensor))\n",
    "    testing_loss +=loss\n",
    "\n",
    "print('Loss on testing data: {:.3f}\\nAccuracy on testing data:{:.3f}'.format(testing_loss/len(testloader), accuracy/len(testloader)))"
   ]
  },
  {
   "cell_type": "code",
   "execution_count": 15,
   "metadata": {},
   "outputs": [
    {
     "data": {
      "text/plain": [
       "<matplotlib.image.AxesImage at 0x26b8b4f1b70>"
      ]
     },
     "execution_count": 15,
     "metadata": {},
     "output_type": "execute_result"
    },
    {
     "data": {
      "image/png": "[encoded data removed]",
      "text/plain": [
       "<Figure size 1008x432 with 2 Axes>"
      ]
     },
     "metadata": {},
     "output_type": "display_data"
    }
   ],
   "source": [
    "images, labels = next(iter(testloader))\n",
    "\n",
    "# changing the shape of images[0] from (1,28,28) to (1,784)\n",
    "img = images[0].view(1,-1)\n",
    "\n",
    "# Defined a figure of size(14,6)\n",
    "plt.figure(figsize=[14,6])\n",
    "\n",
    "# forward passing the 'img'\n",
    "logits = model(img)\n",
    "# using torch.exp() gives out model gives outputs as los_softmax and doing exp() we will get original values.\n",
    "output = torch.exp(logits)\n",
    "\n",
    "# converts 'output' tensor to numpy array\n",
    "y = output.detach().numpy()\n",
    "N = y.shape[1]\n",
    "x = np.arange(N)\n",
    "\n",
    "# Sub plot 1st of plots with 1 row and 2 columns\n",
    "plt.subplot(1,2,1)\n",
    "plt.bar(x,y.ravel())\n",
    "\n",
    "\n",
    "# Sub plot 2nd of plots with 1 row and 2 columns\n",
    "plt.subplot(1,2,2)\n",
    "plt.imshow(images[0].numpy().squeeze(), cmap='Greys_r')"
   ]
  },
  {
   "cell_type": "code",
   "execution_count": null,
   "metadata": {},
   "outputs": [],
   "source": []
  }
 ],
 "metadata": {
  "kernelspec": {
   "display_name": "Python 3",
   "language": "python",
   "name": "python3"
  },
  "language_info": {
   "codemirror_mode": {
    "name": "ipython",
    "version": 3
   },
   "file_extension": ".py",
   "mimetype": "text/x-python",
   "name": "python",
   "nbconvert_exporter": "python",
   "pygments_lexer": "ipython3",
   "version": "3.6.6"
  }
 },
 "nbformat": 4,
 "nbformat_minor": 2
}
