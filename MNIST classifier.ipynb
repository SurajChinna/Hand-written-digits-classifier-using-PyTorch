{
 "cells": [
  {
   "cell_type": "code",
   "execution_count": 1,
   "metadata": {},
   "outputs": [],
   "source": [
    "# Importing the required modules\n",
    "import torch\n",
    "from torch import nn\n",
    "from torch import optim\n",
    "import torch.nn.functional as F \n",
    "from torchvision import datasets, transforms\n",
    "from matplotlib import pyplot as plt\n",
    "\n",
    "from collections import OrderedDict\n",
    "import numpy as np"
   ]
  },
  {
   "cell_type": "code",
   "execution_count": 2,
   "metadata": {},
   "outputs": [],
   "source": [
    "# Applying transformations on images\n",
    "transform = transforms.Compose([transforms.ToTensor(),\n",
    "                               transforms.Normalize((0.5,0.5,0.5),(0.5,0.5,0.5))])\n",
    "\n",
    "#Loading training and testing set\n",
    "trainset = datasets.MNIST('MNIST_data/', train=True, download=True, transform=transform)\n",
    "testset = datasets.MNIST('MNIST_data/', train=False, download=True, transform=transform)\n",
    "\n",
    "trainloader = torch.utils.data.DataLoader(trainset, batch_size=64, shuffle=True)\n",
    "testloader = torch.utils.data.DataLoader(testset, batch_size=64, shuffle=True)"
   ]
  },
  {
   "cell_type": "code",
   "execution_count": 3,
   "metadata": {},
   "outputs": [
    {
     "data": {
      "text/plain": [
       "Sequential(\n",
       "  (fc1): Linear(in_features=784, out_features=128, bias=True)\n",
       "  (relu1): ReLU()\n",
       "  (fc2): Linear(in_features=128, out_features=64, bias=True)\n",
       "  (relu2): ReLU()\n",
       "  (fc3): Linear(in_features=64, out_features=10, bias=True)\n",
       "  (log_soft1): LogSoftmax()\n",
       ")"
      ]
     },
     "execution_count": 3,
     "metadata": {},
     "output_type": "execute_result"
    }
   ],
   "source": [
    "# Defining model\n",
    "model = nn.Sequential(OrderedDict([\n",
    "    ('fc1', nn.Linear(784, 128)),\n",
    "    ('relu1', nn.ReLU()),\n",
    "    ('fc2', nn.Linear(128, 64)),\n",
    "    ('relu2', nn.ReLU()),\n",
    "    ('fc3', nn.Linear(64, 10)),\n",
    "    ('log_soft1', nn.LogSoftmax(dim=1))\n",
    "]))\n",
    "\n",
    "model"
   ]
  },
  {
   "cell_type": "code",
   "execution_count": 4,
   "metadata": {},
   "outputs": [],
   "source": [
    "# setting the criterion as Negative Log Likelihood Loss\n",
    "criterion = nn.NLLLoss()\n",
    "# setting the optimizer to Stocastic Gradient Descent\n",
    "optimizer = optim.SGD(model.parameters(), lr=0.003)"
   ]
  },
  {
   "cell_type": "code",
   "execution_count": 5,
   "metadata": {},
   "outputs": [
    {
     "name": "stdout",
     "output_type": "stream",
     "text": [
      "Epochs 1/5:   Trainin error: 2.2920\n",
      "Epochs 1/5:   Trainin error: 2.2641\n",
      "Epochs 1/5:   Trainin error: 2.2394\n",
      "Epochs 1/5:   Trainin error: 2.2084\n",
      "Epochs 1/5:   Trainin error: 2.1758\n",
      "Epochs 1/5:   Trainin error: 2.1424\n",
      "Epochs 1/5:   Trainin error: 2.1099\n",
      "Epochs 1/5:   Trainin error: 2.0642\n",
      "Epochs 1/5:   Trainin error: 2.0073\n",
      "Epochs 1/5:   Trainin error: 1.9658\n",
      "Epochs 1/5:   Trainin error: 1.8936\n",
      "Epochs 1/5:   Trainin error: 1.8328\n",
      "Epochs 1/5:   Trainin error: 1.7710\n",
      "Epochs 1/5:   Trainin error: 1.6817\n",
      "Epochs 1/5:   Trainin error: 1.6101\n",
      "Epochs 1/5:   Trainin error: 1.5316\n",
      "Epochs 1/5:   Trainin error: 1.4465\n",
      "Epochs 1/5:   Trainin error: 1.3615\n",
      "Epochs 2/5:   Trainin error: 1.2885\n",
      "Epochs 2/5:   Trainin error: 1.2046\n",
      "Epochs 2/5:   Trainin error: 1.1609\n",
      "Epochs 2/5:   Trainin error: 1.0896\n",
      "Epochs 2/5:   Trainin error: 1.0371\n",
      "Epochs 2/5:   Trainin error: 0.9638\n",
      "Epochs 2/5:   Trainin error: 0.9268\n",
      "Epochs 2/5:   Trainin error: 0.8600\n",
      "Epochs 2/5:   Trainin error: 0.8391\n",
      "Epochs 2/5:   Trainin error: 0.8134\n",
      "Epochs 2/5:   Trainin error: 0.7723\n",
      "Epochs 2/5:   Trainin error: 0.7321\n",
      "Epochs 2/5:   Trainin error: 0.7291\n",
      "Epochs 2/5:   Trainin error: 0.6691\n",
      "Epochs 2/5:   Trainin error: 0.6687\n",
      "Epochs 2/5:   Trainin error: 0.6671\n",
      "Epochs 2/5:   Trainin error: 0.6243\n",
      "Epochs 2/5:   Trainin error: 0.6138\n",
      "Epochs 2/5:   Trainin error: 0.6176\n",
      "Epochs 3/5:   Trainin error: 0.5982\n",
      "Epochs 3/5:   Trainin error: 0.5829\n",
      "Epochs 3/5:   Trainin error: 0.5677\n",
      "Epochs 3/5:   Trainin error: 0.5570\n",
      "Epochs 3/5:   Trainin error: 0.5476\n",
      "Epochs 3/5:   Trainin error: 0.5252\n",
      "Epochs 3/5:   Trainin error: 0.5306\n",
      "Epochs 3/5:   Trainin error: 0.5082\n",
      "Epochs 3/5:   Trainin error: 0.5153\n",
      "Epochs 3/5:   Trainin error: 0.4863\n",
      "Epochs 3/5:   Trainin error: 0.4572\n",
      "Epochs 3/5:   Trainin error: 0.5109\n",
      "Epochs 3/5:   Trainin error: 0.4801\n",
      "Epochs 3/5:   Trainin error: 0.5036\n",
      "Epochs 3/5:   Trainin error: 0.4686\n",
      "Epochs 3/5:   Trainin error: 0.4791\n",
      "Epochs 3/5:   Trainin error: 0.4558\n",
      "Epochs 3/5:   Trainin error: 0.4653\n",
      "Epochs 3/5:   Trainin error: 0.4641\n",
      "Epochs 4/5:   Trainin error: 0.4502\n",
      "Epochs 4/5:   Trainin error: 0.4339\n",
      "Epochs 4/5:   Trainin error: 0.4429\n",
      "Epochs 4/5:   Trainin error: 0.4235\n",
      "Epochs 4/5:   Trainin error: 0.4435\n",
      "Epochs 4/5:   Trainin error: 0.4208\n",
      "Epochs 4/5:   Trainin error: 0.4378\n",
      "Epochs 4/5:   Trainin error: 0.4255\n",
      "Epochs 4/5:   Trainin error: 0.4104\n",
      "Epochs 4/5:   Trainin error: 0.4090\n",
      "Epochs 4/5:   Trainin error: 0.4349\n",
      "Epochs 4/5:   Trainin error: 0.4255\n",
      "Epochs 4/5:   Trainin error: 0.4145\n",
      "Epochs 4/5:   Trainin error: 0.4099\n",
      "Epochs 4/5:   Trainin error: 0.4004\n",
      "Epochs 4/5:   Trainin error: 0.4069\n",
      "Epochs 4/5:   Trainin error: 0.4237\n",
      "Epochs 4/5:   Trainin error: 0.3951\n",
      "Epochs 4/5:   Trainin error: 0.3860\n",
      "Epochs 5/5:   Trainin error: 0.3844\n",
      "Epochs 5/5:   Trainin error: 0.3921\n",
      "Epochs 5/5:   Trainin error: 0.4038\n",
      "Epochs 5/5:   Trainin error: 0.3945\n",
      "Epochs 5/5:   Trainin error: 0.3711\n",
      "Epochs 5/5:   Trainin error: 0.3734\n",
      "Epochs 5/5:   Trainin error: 0.3695\n",
      "Epochs 5/5:   Trainin error: 0.3687\n",
      "Epochs 5/5:   Trainin error: 0.3673\n",
      "Epochs 5/5:   Trainin error: 0.3859\n",
      "Epochs 5/5:   Trainin error: 0.4006\n",
      "Epochs 5/5:   Trainin error: 0.3579\n",
      "Epochs 5/5:   Trainin error: 0.4111\n",
      "Epochs 5/5:   Trainin error: 0.3629\n",
      "Epochs 5/5:   Trainin error: 0.3839\n",
      "Epochs 5/5:   Trainin error: 0.3624\n",
      "Epochs 5/5:   Trainin error: 0.3709\n",
      "Epochs 5/5:   Trainin error: 0.3803\n"
     ]
    }
   ],
   "source": [
    "epochs = 5\n",
    "running_loss = 0\n",
    "steps = 0\n",
    "print_every = 50\n",
    "\n",
    "for e in range(epochs):\n",
    "    \n",
    "    for images, labels in trainloader:\n",
    "        steps += 1\n",
    "        \n",
    "        # This step will change the shape of images from (64,1,28,28) to (64, 784)\n",
    "        images = images.view(images.shape[0], -1)\n",
    "        \n",
    "        optimizer.zero_grad()\n",
    "        \n",
    "        # feed-forward\n",
    "        logits = model(images)\n",
    "        \n",
    "        #calculating the loss\n",
    "        loss = criterion(logits, labels)\n",
    "        \n",
    "        # Doing backward propagation of loss\n",
    "        loss.backward()\n",
    "        \n",
    "        # Updating the weights\n",
    "        optimizer.step()\n",
    "        \n",
    "        running_loss += loss.item()\n",
    "        \n",
    "        if steps%print_every==0:\n",
    "            print('Epochs {}/{}: '.format(e+1, epochs), ' Trainin error: {:.4f}'.format(running_loss/print_every))\n",
    "            running_loss=0"
   ]
  },
  {
   "cell_type": "code",
   "execution_count": 7,
   "metadata": {},
   "outputs": [
    {
     "data": {
      "text/plain": [
       "<matplotlib.image.AxesImage at 0x2c04f890a58>"
      ]
     },
     "execution_count": 7,
     "metadata": {},
     "output_type": "execute_result"
    },
    {
     "data": {
      "image/png": "[encoded data removed]",
      "text/plain": [
       "<Figure size 1008x432 with 2 Axes>"
      ]
     },
     "metadata": {},
     "output_type": "display_data"
    }
   ],
   "source": [
    "images, labels = next(iter(testloader))\n",
    "\n",
    "# changing the shape of images[0] from (1,28,28) to (1,784)\n",
    "img = images[0].view(1,-1)\n",
    "\n",
    "# Defined a figure of size(14,6)\n",
    "plt.figure(figsize=[14,6])\n",
    "\n",
    "# forward passing the 'img'\n",
    "logits = model(img)\n",
    "# using torch.exp() gives out model gives outputs as los_softmax and doing exp() we will get original values.\n",
    "output = torch.exp(logits)\n",
    "\n",
    "# converts 'output' tensor to numpy array\n",
    "y = output.detach().numpy()\n",
    "N = y.shape[1]\n",
    "x = np.arange(N)\n",
    "\n",
    "# Sub plot 1st of plots with 1 row and 2 columns\n",
    "plt.subplot(1,2,1)\n",
    "plt.bar(x,y.ravel())\n",
    "\n",
    "\n",
    "# Sub plot 2nd of plots with 1 row and 2 columns\n",
    "plt.subplot(1,2,2)\n",
    "plt.imshow(images[0].numpy().squeeze(), cmap='Greys_r')"
   ]
  },
  {
   "cell_type": "code",
   "execution_count": null,
   "metadata": {},
   "outputs": [],
   "source": []
  }
 ],
 "metadata": {
  "kernelspec": {
   "display_name": "Python 3",
   "language": "python",
   "name": "python3"
  },
  "language_info": {
   "codemirror_mode": {
    "name": "ipython",
    "version": 3
   },
   "file_extension": ".py",
   "mimetype": "text/x-python",
   "name": "python",
   "nbconvert_exporter": "python",
   "pygments_lexer": "ipython3",
   "version": "3.6.6"
  }
 },
 "nbformat": 4,
 "nbformat_minor": 2
}
