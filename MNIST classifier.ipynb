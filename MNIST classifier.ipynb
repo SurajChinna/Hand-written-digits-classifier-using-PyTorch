{
 "cells": [
  {
   "cell_type": "code",
   "execution_count": 1,
   "metadata": {},
   "outputs": [],
   "source": [
    "# Importing the required modules\n",
    "import torch\n",
    "from torch import nn\n",
    "from torch import optim\n",
    "import torch.nn.functional as F \n",
    "from torchvision import datasets, transforms\n",
    "from matplotlib import pyplot as plt\n",
    "\n",
    "from collections import OrderedDict\n",
    "import numpy as np"
   ]
  },
  {
   "cell_type": "code",
   "execution_count": 2,
   "metadata": {},
   "outputs": [],
   "source": [
    "# Applying transformations on images\n",
    "transform = transforms.Compose([transforms.ToTensor(),\n",
    "                               transforms.Normalize((0.5,0.5,0.5),(0.5,0.5,0.5))])\n",
    "\n",
    "#Loading training and testing set\n",
    "trainset = datasets.MNIST('MNIST_data/', train=True, download=True, transform=transform)\n",
    "testset = datasets.MNIST('MNIST_data/', train=False, download=True, transform=transform)\n",
    "\n",
    "trainloader = torch.utils.data.DataLoader(trainset, batch_size=64, shuffle=True)\n",
    "testloader = torch.utils.data.DataLoader(testset, batch_size=64, shuffle=True)"
   ]
  },
  {
   "cell_type": "code",
   "execution_count": 19,
   "metadata": {},
   "outputs": [
    {
     "data": {
      "text/plain": [
       "Sequential(\n",
       "  (fc1): Linear(in_features=784, out_features=128, bias=True)\n",
       "  (relu1): ReLU()\n",
       "  (fc2): Linear(in_features=128, out_features=64, bias=True)\n",
       "  (relu2): ReLU()\n",
       "  (fc3): Linear(in_features=64, out_features=10, bias=True)\n",
       "  (log_soft1): LogSoftmax()\n",
       ")"
      ]
     },
     "execution_count": 19,
     "metadata": {},
     "output_type": "execute_result"
    }
   ],
   "source": [
    "# Defining model\n",
    "model = nn.Sequential(OrderedDict([\n",
    "    ('fc1', nn.Linear(784, 128)),\n",
    "    ('relu1', nn.ReLU()),\n",
    "    ('fc2', nn.Linear(128, 64)),\n",
    "    ('relu2', nn.ReLU()),\n",
    "    ('fc3', nn.Linear(64, 10)),\n",
    "    ('log_soft1', nn.LogSoftmax(dim=1))\n",
    "]))\n",
    "\n",
    "model"
   ]
  },
  {
   "cell_type": "code",
   "execution_count": 20,
   "metadata": {},
   "outputs": [],
   "source": [
    "# setting the criterion as Negative Log Likelihood Loss\n",
    "criterion = nn.NLLLoss()\n",
    "# setting the optimizer to Stocastic Gradient Descent\n",
    "optimizer = optim.SGD(model.parameters(), lr=0.003)"
   ]
  },
  {
   "cell_type": "code",
   "execution_count": 21,
   "metadata": {},
   "outputs": [
    {
     "name": "stdout",
     "output_type": "stream",
     "text": [
      "Epochs 1/20:   Trainin error: 2.1655\n",
      "Epochs 2/20:   Trainin error: 1.5562\n",
      "Epochs 2/20:   Trainin error: 0.9361\n",
      "Epochs 3/20:   Trainin error: 0.6509\n",
      "Epochs 3/20:   Trainin error: 0.5243\n",
      "Epochs 4/20:   Trainin error: 0.4499\n",
      "Epochs 4/20:   Trainin error: 0.4161\n",
      "Epochs 5/20:   Trainin error: 0.3969\n",
      "Epochs 5/20:   Trainin error: 0.3713\n",
      "Epochs 6/20:   Trainin error: 0.3547\n",
      "Epochs 6/20:   Trainin error: 0.3487\n",
      "Epochs 7/20:   Trainin error: 0.3384\n",
      "Epochs 7/20:   Trainin error: 0.3305\n",
      "Epochs 8/20:   Trainin error: 0.3263\n",
      "Epochs 8/20:   Trainin error: 0.3111\n",
      "Epochs 9/20:   Trainin error: 0.3077\n",
      "Epochs 10/20:   Trainin error: 0.3096\n",
      "Epochs 10/20:   Trainin error: 0.3015\n",
      "Epochs 11/20:   Trainin error: 0.2909\n",
      "Epochs 11/20:   Trainin error: 0.2899\n",
      "Epochs 12/20:   Trainin error: 0.2915\n",
      "Epochs 12/20:   Trainin error: 0.2813\n",
      "Epochs 13/20:   Trainin error: 0.2738\n",
      "Epochs 13/20:   Trainin error: 0.2767\n",
      "Epochs 14/20:   Trainin error: 0.2741\n",
      "Epochs 14/20:   Trainin error: 0.2642\n",
      "Epochs 15/20:   Trainin error: 0.2652\n",
      "Epochs 15/20:   Trainin error: 0.2564\n",
      "Epochs 16/20:   Trainin error: 0.2598\n",
      "Epochs 16/20:   Trainin error: 0.2493\n",
      "Epochs 17/20:   Trainin error: 0.2508\n",
      "Epochs 18/20:   Trainin error: 0.2428\n",
      "Epochs 18/20:   Trainin error: 0.2443\n",
      "Epochs 19/20:   Trainin error: 0.2396\n",
      "Epochs 19/20:   Trainin error: 0.2359\n",
      "Epochs 20/20:   Trainin error: 0.2361\n",
      "Epochs 20/20:   Trainin error: 0.2330\n"
     ]
    }
   ],
   "source": [
    "epochs = 20\n",
    "running_loss = 0\n",
    "steps = 0\n",
    "print_every = 500\n",
    "\n",
    "for e in range(epochs):\n",
    "    \n",
    "    for images, labels in trainloader:\n",
    "        steps += 1\n",
    "        \n",
    "        # This step will change the shape of images from (64,1,28,28) to (64, 784)\n",
    "        images = images.view(images.shape[0], -1)\n",
    "        \n",
    "        optimizer.zero_grad()\n",
    "        \n",
    "        # feed-forward\n",
    "        logits = model(images)\n",
    "        \n",
    "        #calculating the loss\n",
    "        loss = criterion(logits, labels)\n",
    "        \n",
    "        # Doing backward propagation of loss\n",
    "        loss.backward()\n",
    "        \n",
    "        # Updating the weights\n",
    "        optimizer.step()\n",
    "        \n",
    "        running_loss += loss.item()\n",
    "        \n",
    "        if steps%print_every==0:\n",
    "            print('Epochs {}/{}: '.format(e+1, epochs), ' Trainin error: {:.4f}'.format(running_loss/print_every))\n",
    "            running_loss=0"
   ]
  },
  {
   "cell_type": "code",
   "execution_count": 22,
   "metadata": {
    "scrolled": true
   },
   "outputs": [
    {
     "name": "stdout",
     "output_type": "stream",
     "text": [
      "Loss on testing data: 0.224\n",
      "Accuracy on testing data:0.935\n"
     ]
    }
   ],
   "source": [
    "#testing the model on test data\n",
    "\n",
    "testing_loss = 0\n",
    "accuracy = 0\n",
    "\n",
    "for images, labels in testloader:\n",
    "    images = images.view(images.shape[0], -1)\n",
    "    \n",
    "    logps = model(images)\n",
    "    loss = criterion(logps, labels)\n",
    "    ps = torch.exp(logps)\n",
    "    \n",
    "    out_class, out_p = ps.topk(1)\n",
    "    equality = labels==out_p.view(*labels.shape)\n",
    "    accuracy += torch.mean(equality.type(torch.FloatTensor))\n",
    "    testing_loss +=loss\n",
    "\n",
    "print('Loss on testing data: {:.3f}\\nAccuracy on testing data:{:.3f}'.format(testing_loss/len(testloader), accuracy/len(testloader)))"
   ]
  },
  {
   "cell_type": "code",
   "execution_count": 23,
   "metadata": {},
   "outputs": [
    {
     "data": {
      "text/plain": [
       "<matplotlib.image.AxesImage at 0x1976fc1dcf8>"
      ]
     },
     "execution_count": 23,
     "metadata": {},
     "output_type": "execute_result"
    },
    {
     "data": {
      "image/png": "[encoded data removed]",
      "text/plain": [
       "<Figure size 1008x432 with 2 Axes>"
      ]
     },
     "metadata": {},
     "output_type": "display_data"
    }
   ],
   "source": [
    "images, labels = next(iter(testloader))\n",
    "\n",
    "# changing the shape of images[0] from (1,28,28) to (1,784)\n",
    "img = images[0].view(1,-1)\n",
    "\n",
    "# Defined a figure of size(14,6)\n",
    "plt.figure(figsize=[14,6])\n",
    "\n",
    "# forward passing the 'img'\n",
    "logits = model(img)\n",
    "# using torch.exp() gives out model gives outputs as los_softmax and doing exp() we will get original values.\n",
    "output = torch.exp(logits)\n",
    "\n",
    "# converts 'output' tensor to numpy array\n",
    "y = output.detach().numpy()\n",
    "N = y.shape[1]\n",
    "x = np.arange(N)\n",
    "\n",
    "# Sub plot 1st of plots with 1 row and 2 columns\n",
    "plt.subplot(1,2,1)\n",
    "plt.bar(x,y.ravel())\n",
    "\n",
    "\n",
    "# Sub plot 2nd of plots with 1 row and 2 columns\n",
    "plt.subplot(1,2,2)\n",
    "plt.imshow(images[0].numpy().squeeze(), cmap='Greys_r')"
   ]
  },
  {
   "cell_type": "code",
   "execution_count": null,
   "metadata": {},
   "outputs": [],
   "source": []
  }
 ],
 "metadata": {
  "kernelspec": {
   "display_name": "Python 3",
   "language": "python",
   "name": "python3"
  },
  "language_info": {
   "codemirror_mode": {
    "name": "ipython",
    "version": 3
   },
   "file_extension": ".py",
   "mimetype": "text/x-python",
   "name": "python",
   "nbconvert_exporter": "python",
   "pygments_lexer": "ipython3",
   "version": "3.6.6"
  }
 },
 "nbformat": 4,
 "nbformat_minor": 2
}
